{
 "cells": [
  {
   "cell_type": "code",
   "execution_count": 1,
   "metadata": {},
   "outputs": [],
   "source": [
    "import pandas as pd\n",
    "import numpy as np\n",
    "\n",
    "from sklearn.model_selection import KFold\n",
    "from sklearn.model_selection import train_test_split\n",
    "from sklearn.model_selection import cross_val_score\n",
    "\n",
    "import xgboost as xgb\n",
    "from sklearn.metrics import accuracy_score\n",
    "\n",
    "from sklearn import preprocessing\n",
    "\n",
    "from sklearn.linear_model import LogisticRegression\n",
    "from sklearn.discriminant_analysis import LinearDiscriminantAnalysis\n",
    "from sklearn.neighbors import KNeighborsClassifier\n",
    "from sklearn.naive_bayes import GaussianNB\n",
    "from sklearn.tree import DecisionTreeClassifier\n",
    "from sklearn.svm import SVC\n",
    "\n",
    "from sklearn.preprocessing import StandardScaler\n",
    "from sklearn.preprocessing import MinMaxScaler\n",
    "\n",
    "from sklearn.model_selection import cross_validate\n",
    "from sklearn.metrics import recall_score\n",
    "\n",
    "from sklearn.ensemble import RandomForestClassifier"
   ]
  },
  {
   "cell_type": "code",
   "execution_count": 2,
   "metadata": {},
   "outputs": [
    {
     "data": {
      "text/plain": [
       "Index(['Unnamed: 0', 'Type', 'Age', 'Breed1', 'Breed2', 'Gender', 'Color1',\n",
       "       'Color2', 'Color3', 'Single_Colored', 'Double_Colored',\n",
       "       'Triple_Colored', 'MaturitySize', 'FurLength', 'Vaccinated', 'Dewormed',\n",
       "       'Sterilized', 'Health', 'Quantity', 'Group', 'Fee', 'State', 'VideoAmt',\n",
       "       'Length_Description', 'PhotoAmt', 'Meaningless_Name', 'Has_Name',\n",
       "       'RescuerID_count', 'state_gdp', 'state_population', 'AdoptionSpeed'],\n",
       "      dtype='object')"
      ]
     },
     "execution_count": 2,
     "metadata": {},
     "output_type": "execute_result"
    }
   ],
   "source": [
    "df = pd.read_csv('df2.csv')\n",
    "df.columns\n",
    "\n",
    "#to binarize: 'breed1','breed2','gender','color1','color2', 'color 3', 'vaccinated','dewormed','sterilized','health','state'"
   ]
  },
  {
   "cell_type": "code",
   "execution_count": 3,
   "metadata": {},
   "outputs": [],
   "source": [
    "df['Breed1'] = pd.Categorical(df.Breed1)\n",
    "df['Breed2'] = pd.Categorical(df.Breed2)\n",
    "df['Gender'] = pd.Categorical(df.Gender)\n",
    "df['Color1'] = pd.Categorical(df.Color1)\n",
    "df['Color2'] = pd.Categorical(df.Color2)\n",
    "df['Color3'] = pd.Categorical(df.Color3)\n",
    "df['Vaccinated'] = pd.Categorical(df.Vaccinated)\n",
    "df['Dewormed'] = pd.Categorical(df.Dewormed)\n",
    "df['Sterilized'] = pd.Categorical(df.Sterilized)\n",
    "df['Health'] = pd.Categorical(df.Health)\n",
    "df['State'] = pd.Categorical(df.State)\n",
    "df['Type'] = pd.Categorical(df.Type)"
   ]
  },
  {
   "cell_type": "code",
   "execution_count": 4,
   "metadata": {},
   "outputs": [],
   "source": [
    "def binarize_categories(data):\n",
    "    for column in data.select_dtypes('category'):\n",
    "        if len(data[column].unique()) == 2:\n",
    "            data[column] = pd.get_dummies(data[column], dtype='int64')\n",
    "        else:\n",
    "            data = pd.get_dummies(data, prefix=column, columns=[column], drop_first=True)\n",
    "    return data\n",
    "#binarizing columns\n",
    "df = binarize_categories(df)"
   ]
  },
  {
   "cell_type": "code",
   "execution_count": 5,
   "metadata": {},
   "outputs": [
    {
     "data": {
      "text/plain": [
       "Index(['Unnamed: 0', 'Type', 'Age', 'Single_Colored', 'Double_Colored',\n",
       "       'Triple_Colored', 'MaturitySize', 'FurLength', 'Quantity', 'Group',\n",
       "       ...\n",
       "       'State_4', 'State_5', 'State_6', 'State_7', 'State_8', 'State_9',\n",
       "       'State_10', 'State_11', 'State_12', 'State_13'],\n",
       "      dtype='object', length=369)"
      ]
     },
     "execution_count": 5,
     "metadata": {},
     "output_type": "execute_result"
    }
   ],
   "source": [
    "df.columns"
   ]
  },
  {
   "cell_type": "code",
   "execution_count": 6,
   "metadata": {},
   "outputs": [],
   "source": [
    "cols = df.columns.tolist()\n",
    "df = df[['Type', 'Age','Single_Colored', 'Double_Colored','Triple_Colored', 'MaturitySize', 'FurLength', 'Quantity',\n",
    " 'Group', 'Fee', 'VideoAmt', 'Length_Description', 'PhotoAmt', 'Meaningless_Name', 'Has_Name', 'RescuerID_count', 'state_gdp',\n",
    " 'state_population', 'Breed1_1', 'Breed1_2', 'Breed1_3', 'Breed1_4', 'Breed1_5', 'Breed1_6', 'Breed1_7', 'Breed1_8',\n",
    " 'Breed1_9', 'Breed1_10', 'Breed1_11', 'Breed1_12', 'Breed1_13', 'Breed1_14', 'Breed1_15', 'Breed1_16', 'Breed1_17',\n",
    " 'Breed1_18', 'Breed1_19', 'Breed1_20', 'Breed1_21', 'Breed1_22','Breed1_23', 'Breed1_24','Breed1_25','Breed1_26', 'Breed1_27',\n",
    " 'Breed1_28', 'Breed1_29', 'Breed1_30', 'Breed1_31', 'Breed1_32', 'Breed1_33', 'Breed1_34', 'Breed1_35', 'Breed1_36', 'Breed1_37',\n",
    " 'Breed1_38', 'Breed1_39', 'Breed1_40', 'Breed1_41','Breed1_42', 'Breed1_43', 'Breed1_44', 'Breed1_45', 'Breed1_46', 'Breed1_47',\n",
    " 'Breed1_48', 'Breed1_49', 'Breed1_50', 'Breed1_51', 'Breed1_52', 'Breed1_53', 'Breed1_54', 'Breed1_55', 'Breed1_56', 'Breed1_57',\n",
    " 'Breed1_58', 'Breed1_59', 'Breed1_60', 'Breed1_61', 'Breed1_62', 'Breed1_63', 'Breed1_64', 'Breed1_65', 'Breed1_66', 'Breed1_67',\n",
    " 'Breed1_68', 'Breed1_69', 'Breed1_70', 'Breed1_71', 'Breed1_72', 'Breed1_73', 'Breed1_74', 'Breed1_75', 'Breed1_76', 'Breed1_77',\n",
    " 'Breed1_78', 'Breed1_79', 'Breed1_80', 'Breed1_81', 'Breed1_82', 'Breed1_83', 'Breed1_84', 'Breed1_85', 'Breed1_86', 'Breed1_87',\n",
    " 'Breed1_88', 'Breed1_89', 'Breed1_90', 'Breed1_91', 'Breed1_92', 'Breed1_93', 'Breed1_94', 'Breed1_95', 'Breed1_96', 'Breed1_97',\n",
    " 'Breed1_98', 'Breed1_99', 'Breed1_100', 'Breed1_101', 'Breed1_102', 'Breed1_103', 'Breed1_104', 'Breed1_105', 'Breed1_106', 'Breed1_107',\n",
    " 'Breed1_108', 'Breed1_109', 'Breed1_110', 'Breed1_111', 'Breed1_112', 'Breed1_113', 'Breed1_114', 'Breed1_115', 'Breed1_116', 'Breed1_117', 'Breed1_118', 'Breed1_119', 'Breed1_120', 'Breed1_121', 'Breed1_122', 'Breed1_123', 'Breed1_124', 'Breed1_125', 'Breed1_126', 'Breed1_127', 'Breed1_128', 'Breed1_129', 'Breed1_130',\n",
    " 'Breed1_131', 'Breed1_132', 'Breed1_133', 'Breed1_134', 'Breed1_135', 'Breed1_136','Breed1_137', 'Breed1_138', 'Breed1_139', 'Breed1_140',\n",
    " 'Breed1_141', 'Breed1_142', 'Breed1_143', 'Breed1_144', 'Breed1_145', 'Breed1_146', 'Breed1_147', 'Breed1_148',\n",
    " 'Breed1_149', 'Breed1_150', 'Breed1_151', 'Breed1_152', 'Breed1_153', 'Breed1_154', 'Breed1_155', 'Breed1_156',\n",
    " 'Breed1_157', 'Breed1_158', 'Breed1_159', 'Breed1_160', 'Breed1_161', 'Breed1_162', 'Breed1_163', 'Breed1_164',\n",
    " 'Breed1_165', 'Breed1_166', 'Breed1_167', 'Breed1_168', 'Breed1_169', 'Breed1_170', 'Breed1_171', 'Breed1_172',\n",
    " 'Breed1_173', 'Breed1_174', 'Breed1_175', 'Breed2_1', 'Breed2_2', 'Breed2_3', 'Breed2_4', 'Breed2_5',\n",
    " 'Breed2_6', 'Breed2_7', 'Breed2_8', 'Breed2_9', 'Breed2_10', 'Breed2_11', 'Breed2_12', 'Breed2_13',\n",
    " 'Breed2_14', 'Breed2_15', 'Breed2_16', 'Breed2_17', 'Breed2_18', 'Breed2_19', 'Breed2_20', 'Breed2_21',\n",
    " 'Breed2_22', 'Breed2_23', 'Breed2_24', 'Breed2_25', 'Breed2_26', 'Breed2_27', 'Breed2_28', 'Breed2_29',\n",
    " 'Breed2_30', 'Breed2_31', 'Breed2_32', 'Breed2_33', 'Breed2_34', 'Breed2_35', 'Breed2_36', 'Breed2_37',\n",
    " 'Breed2_38', 'Breed2_39', 'Breed2_40', 'Breed2_41', 'Breed2_42', 'Breed2_43', 'Breed2_44', 'Breed2_45',\n",
    " 'Breed2_46', 'Breed2_47', 'Breed2_48', 'Breed2_49', 'Breed2_50', 'Breed2_51', 'Breed2_52', 'Breed2_53',\n",
    " 'Breed2_54', 'Breed2_55', 'Breed2_56', 'Breed2_57', 'Breed2_58', 'Breed2_59', 'Breed2_60', 'Breed2_61',\n",
    " 'Breed2_62', 'Breed2_63', 'Breed2_64', 'Breed2_65', 'Breed2_66', 'Breed2_67', 'Breed2_68', 'Breed2_69',\n",
    " 'Breed2_70', 'Breed2_71', 'Breed2_72', 'Breed2_73', 'Breed2_74', 'Breed2_75', 'Breed2_76', 'Breed2_77',\n",
    " 'Breed2_78', 'Breed2_79', 'Breed2_80', 'Breed2_81', 'Breed2_82', 'Breed2_83', 'Breed2_84', 'Breed2_85',\n",
    " 'Breed2_86', 'Breed2_87', 'Breed2_88', 'Breed2_89', 'Breed2_90', 'Breed2_91', 'Breed2_92', 'Breed2_93',\n",
    " 'Breed2_94', 'Breed2_95', 'Breed2_96', 'Breed2_97', 'Breed2_98', 'Breed2_99', 'Breed2_100', 'Breed2_101',\n",
    " 'Breed2_102', 'Breed2_103', 'Breed2_104', 'Breed2_105', 'Breed2_106', 'Breed2_107', 'Breed2_108', 'Breed2_109',\n",
    " 'Breed2_110', 'Breed2_111', 'Breed2_112', 'Breed2_113', 'Breed2_114', 'Breed2_115', 'Breed2_116', 'Breed2_117',\n",
    " 'Breed2_118', 'Breed2_119', 'Breed2_120', 'Breed2_121', 'Breed2_122', 'Breed2_123', 'Breed2_124', 'Breed2_125',\n",
    " 'Breed2_126', 'Breed2_127', 'Breed2_128', 'Breed2_129', 'Breed2_130', 'Breed2_131', 'Breed2_132', 'Breed2_133',\n",
    " 'Breed2_134', 'Gender_2', 'Gender_3', 'Color1_1', 'Color1_2', 'Color1_3', 'Color1_4', 'Color1_5',\n",
    " 'Color1_6', 'Color2_1', 'Color2_2', 'Color2_3', 'Color2_4', 'Color2_5', 'Color2_6', 'Color3_1',\n",
    " 'Color3_2', 'Color3_3', 'Color3_4', 'Color3_5', 'Vaccinated_2', 'Vaccinated_3', 'Dewormed_2', 'Dewormed_3',\n",
    " 'Sterilized_2', 'Sterilized_3', 'Health_2', 'Health_3', 'State_1', 'State_2', 'State_3', 'State_4',\n",
    " 'State_5', 'State_6', 'State_7', 'State_8','State_9', 'State_10', 'State_11', 'State_12',\n",
    " 'State_13','AdoptionSpeed']]"
   ]
  },
  {
   "cell_type": "code",
   "execution_count": 7,
   "metadata": {},
   "outputs": [],
   "source": [
    "array2 = df.values\n",
    "X_df2 = array2[:, 0:-1]\n",
    "y_df2 = array2[:, -1]"
   ]
  },
  {
   "cell_type": "code",
   "execution_count": 8,
   "metadata": {},
   "outputs": [],
   "source": [
    "def evaluate_classifiers(X, y, n_splits=4, shuffle=True, random_state=0):\n",
    "\n",
    "    num_trees=100\n",
    "    num_features=3\n",
    "    seed= 0\n",
    "\n",
    "    features = [('Normal',       X)]\n",
    "\n",
    "    models = [('LogisticRegression',         LogisticRegression(solver=\"liblinear\")),\n",
    "              ('LinearDiscriminantAnalysis', LinearDiscriminantAnalysis()),\n",
    "              ('KNeighborsClassifier',       KNeighborsClassifier()),\n",
    "              ('Naive Bayes',                GaussianNB()),\n",
    "              ('DecisionTreeClassifier',     DecisionTreeClassifier()),\n",
    "              ('SupportVectorMachine',       SVC(gamma=\"scale\")),\n",
    "              ('DecisionTree',               DecisionTreeClassifier(random_state=seed)),\n",
    "              ('RandomForest',               RandomForestClassifier(n_estimators=num_trees, max_features=num_features, random_state=seed)),\n",
    "              ('XGBoost',                    xgb.XGBClassifier())]\n",
    "\n",
    "    kfold = KFold(n_splits=n_splits, shuffle=shuffle, random_state=random_state)\n",
    "\n",
    "    results = []\n",
    "    for model in models:\n",
    "\n",
    "        for feature in features:\n",
    "            res = cross_val_score(model[1], feature[1], y, cv=kfold)\n",
    "\n",
    "            [results.append((model[0], feature[0], model[0]+'_'+feature[0], r)) for r in res]\n",
    "\n",
    "    results = pd.DataFrame(results, columns=['Model', 'FeatureScaling', 'Combined', 'Result'])\n",
    "    return results"
   ]
  },
  {
   "cell_type": "code",
   "execution_count": 9,
   "metadata": {},
   "outputs": [
    {
     "name": "stderr",
     "output_type": "stream",
     "text": [
      "C:\\Users\\colla\\Anaconda3\\lib\\site-packages\\sklearn\\linear_model\\logistic.py:469: FutureWarning: Default multi_class will be changed to 'auto' in 0.22. Specify the multi_class option to silence this warning.\n",
      "  \"this warning.\", FutureWarning)\n",
      "C:\\Users\\colla\\Anaconda3\\lib\\site-packages\\sklearn\\linear_model\\logistic.py:469: FutureWarning: Default multi_class will be changed to 'auto' in 0.22. Specify the multi_class option to silence this warning.\n",
      "  \"this warning.\", FutureWarning)\n",
      "C:\\Users\\colla\\Anaconda3\\lib\\site-packages\\sklearn\\linear_model\\logistic.py:469: FutureWarning: Default multi_class will be changed to 'auto' in 0.22. Specify the multi_class option to silence this warning.\n",
      "  \"this warning.\", FutureWarning)\n",
      "C:\\Users\\colla\\Anaconda3\\lib\\site-packages\\sklearn\\linear_model\\logistic.py:469: FutureWarning: Default multi_class will be changed to 'auto' in 0.22. Specify the multi_class option to silence this warning.\n",
      "  \"this warning.\", FutureWarning)\n",
      "C:\\Users\\colla\\Anaconda3\\lib\\site-packages\\sklearn\\discriminant_analysis.py:388: UserWarning: Variables are collinear.\n",
      "  warnings.warn(\"Variables are collinear.\")\n",
      "C:\\Users\\colla\\Anaconda3\\lib\\site-packages\\sklearn\\discriminant_analysis.py:388: UserWarning: Variables are collinear.\n",
      "  warnings.warn(\"Variables are collinear.\")\n",
      "C:\\Users\\colla\\Anaconda3\\lib\\site-packages\\sklearn\\discriminant_analysis.py:388: UserWarning: Variables are collinear.\n",
      "  warnings.warn(\"Variables are collinear.\")\n",
      "C:\\Users\\colla\\Anaconda3\\lib\\site-packages\\sklearn\\discriminant_analysis.py:388: UserWarning: Variables are collinear.\n",
      "  warnings.warn(\"Variables are collinear.\")\n"
     ]
    },
    {
     "data": {
      "text/html": [
       "<div>\n",
       "<style scoped>\n",
       "    .dataframe tbody tr th:only-of-type {\n",
       "        vertical-align: middle;\n",
       "    }\n",
       "\n",
       "    .dataframe tbody tr th {\n",
       "        vertical-align: top;\n",
       "    }\n",
       "\n",
       "    .dataframe thead th {\n",
       "        text-align: right;\n",
       "    }\n",
       "</style>\n",
       "<table border=\"1\" class=\"dataframe\">\n",
       "  <thead>\n",
       "    <tr style=\"text-align: right;\">\n",
       "      <th></th>\n",
       "      <th>Combined</th>\n",
       "      <th>Result</th>\n",
       "    </tr>\n",
       "  </thead>\n",
       "  <tbody>\n",
       "    <tr>\n",
       "      <th>0</th>\n",
       "      <td>LogisticRegression_Normal</td>\n",
       "      <td>0.395171</td>\n",
       "    </tr>\n",
       "    <tr>\n",
       "      <th>1</th>\n",
       "      <td>LinearDiscriminantAnalysis_Normal</td>\n",
       "      <td>0.387499</td>\n",
       "    </tr>\n",
       "    <tr>\n",
       "      <th>2</th>\n",
       "      <td>KNeighborsClassifier_Normal</td>\n",
       "      <td>0.334668</td>\n",
       "    </tr>\n",
       "    <tr>\n",
       "      <th>3</th>\n",
       "      <td>Naive Bayes_Normal</td>\n",
       "      <td>0.322394</td>\n",
       "    </tr>\n",
       "    <tr>\n",
       "      <th>4</th>\n",
       "      <td>DecisionTreeClassifier_Normal</td>\n",
       "      <td>0.376093</td>\n",
       "    </tr>\n",
       "    <tr>\n",
       "      <th>5</th>\n",
       "      <td>SupportVectorMachine_Normal</td>\n",
       "      <td>0.331065</td>\n",
       "    </tr>\n",
       "    <tr>\n",
       "      <th>6</th>\n",
       "      <td>DecisionTree_Normal</td>\n",
       "      <td>0.377494</td>\n",
       "    </tr>\n",
       "    <tr>\n",
       "      <th>7</th>\n",
       "      <td>RandomForest_Normal</td>\n",
       "      <td>0.422253</td>\n",
       "    </tr>\n",
       "    <tr>\n",
       "      <th>8</th>\n",
       "      <td>XGBoost_Normal</td>\n",
       "      <td>0.433994</td>\n",
       "    </tr>\n",
       "  </tbody>\n",
       "</table>\n",
       "</div>"
      ],
      "text/plain": [
       "                            Combined    Result\n",
       "0          LogisticRegression_Normal  0.395171\n",
       "1  LinearDiscriminantAnalysis_Normal  0.387499\n",
       "2        KNeighborsClassifier_Normal  0.334668\n",
       "3                 Naive Bayes_Normal  0.322394\n",
       "4      DecisionTreeClassifier_Normal  0.376093\n",
       "5        SupportVectorMachine_Normal  0.331065\n",
       "6                DecisionTree_Normal  0.377494\n",
       "7                RandomForest_Normal  0.422253\n",
       "8                     XGBoost_Normal  0.433994"
      ]
     },
     "execution_count": 9,
     "metadata": {},
     "output_type": "execute_result"
    }
   ],
   "source": [
    "results_2 = evaluate_classifiers(X_df2,y_df2)\n",
    "accuracy2 = results_2.groupby(['Combined'],sort=False).mean().reset_index()\n",
    "accuracy2"
   ]
  },
  {
   "cell_type": "code",
   "execution_count": 10,
   "metadata": {},
   "outputs": [
    {
     "name": "stdout",
     "output_type": "stream",
     "text": [
      "Voting Ensemble (xgb,rf) - Accuracy 42.365% std 1.169917\n"
     ]
    }
   ],
   "source": [
    "from sklearn.ensemble import VotingClassifier\n",
    "\n",
    "resall=pd.DataFrame()\n",
    "res_w1=pd.DataFrame()\n",
    "\n",
    "seed=0\n",
    "num_trees=100\n",
    "num_features=3\n",
    "\n",
    "estimators=[]\n",
    "model1=xgb.XGBClassifier()\n",
    "estimators.append((\"xgb\", model1))\n",
    "\n",
    "model2=RandomForestClassifier(n_estimators=num_trees, max_features=num_features, random_state=seed)\n",
    "estimators.append((\"rf\", model2))\n",
    "\n",
    "model=VotingClassifier(estimators)\n",
    "\n",
    "kfold=KFold(n_splits=10, random_state=seed)\n",
    "\n",
    "results=cross_val_score(model, X_df2, y_df2, cv=kfold)\n",
    "\n",
    "print(f'Voting Ensemble (xgb,rf) - Accuracy {results.mean()*100:.3f}% std {results.std()*100:3f}')\n",
    "\n",
    "res_w1[\"Res\"]=results\n",
    "res_w1[\"Type\"]=\"Voting\"\n",
    "\n",
    "resall=pd.concat([resall,res_w1], ignore_index=True)"
   ]
  },
  {
   "cell_type": "code",
   "execution_count": 11,
   "metadata": {},
   "outputs": [
    {
     "data": {
      "text/html": [
       "<div>\n",
       "<style scoped>\n",
       "    .dataframe tbody tr th:only-of-type {\n",
       "        vertical-align: middle;\n",
       "    }\n",
       "\n",
       "    .dataframe tbody tr th {\n",
       "        vertical-align: top;\n",
       "    }\n",
       "\n",
       "    .dataframe thead th {\n",
       "        text-align: right;\n",
       "    }\n",
       "</style>\n",
       "<table border=\"1\" class=\"dataframe\">\n",
       "  <thead>\n",
       "    <tr style=\"text-align: right;\">\n",
       "      <th></th>\n",
       "      <th>name</th>\n",
       "      <th>xgb_importance</th>\n",
       "      <th>rf_importance</th>\n",
       "      <th>total</th>\n",
       "    </tr>\n",
       "  </thead>\n",
       "  <tbody>\n",
       "    <tr>\n",
       "      <th>0</th>\n",
       "      <td>RescuerID_count</td>\n",
       "      <td>0.038112</td>\n",
       "      <td>0.093588</td>\n",
       "      <td>0.131700</td>\n",
       "    </tr>\n",
       "    <tr>\n",
       "      <th>1</th>\n",
       "      <td>Length_Description</td>\n",
       "      <td>0.008398</td>\n",
       "      <td>0.115809</td>\n",
       "      <td>0.124207</td>\n",
       "    </tr>\n",
       "    <tr>\n",
       "      <th>2</th>\n",
       "      <td>Age</td>\n",
       "      <td>0.033868</td>\n",
       "      <td>0.088736</td>\n",
       "      <td>0.122604</td>\n",
       "    </tr>\n",
       "    <tr>\n",
       "      <th>3</th>\n",
       "      <td>PhotoAmt</td>\n",
       "      <td>0.018334</td>\n",
       "      <td>0.087980</td>\n",
       "      <td>0.106314</td>\n",
       "    </tr>\n",
       "    <tr>\n",
       "      <th>4</th>\n",
       "      <td>Sterilized_2</td>\n",
       "      <td>0.057692</td>\n",
       "      <td>0.022015</td>\n",
       "      <td>0.079708</td>\n",
       "    </tr>\n",
       "    <tr>\n",
       "      <th>...</th>\n",
       "      <td>...</td>\n",
       "      <td>...</td>\n",
       "      <td>...</td>\n",
       "      <td>...</td>\n",
       "    </tr>\n",
       "    <tr>\n",
       "      <th>361</th>\n",
       "      <td>Breed2_110</td>\n",
       "      <td>0.000000</td>\n",
       "      <td>0.000015</td>\n",
       "      <td>0.000015</td>\n",
       "    </tr>\n",
       "    <tr>\n",
       "      <th>362</th>\n",
       "      <td>Breed1_89</td>\n",
       "      <td>0.000000</td>\n",
       "      <td>0.000014</td>\n",
       "      <td>0.000014</td>\n",
       "    </tr>\n",
       "    <tr>\n",
       "      <th>363</th>\n",
       "      <td>Breed1_124</td>\n",
       "      <td>0.000000</td>\n",
       "      <td>0.000013</td>\n",
       "      <td>0.000013</td>\n",
       "    </tr>\n",
       "    <tr>\n",
       "      <th>364</th>\n",
       "      <td>Breed1_168</td>\n",
       "      <td>0.000000</td>\n",
       "      <td>0.000012</td>\n",
       "      <td>0.000012</td>\n",
       "    </tr>\n",
       "    <tr>\n",
       "      <th>365</th>\n",
       "      <td>Breed2_131</td>\n",
       "      <td>0.000000</td>\n",
       "      <td>0.000011</td>\n",
       "      <td>0.000011</td>\n",
       "    </tr>\n",
       "  </tbody>\n",
       "</table>\n",
       "<p>367 rows × 4 columns</p>\n",
       "</div>"
      ],
      "text/plain": [
       "                   name  xgb_importance  rf_importance     total\n",
       "0       RescuerID_count        0.038112       0.093588  0.131700\n",
       "1    Length_Description        0.008398       0.115809  0.124207\n",
       "2                   Age        0.033868       0.088736  0.122604\n",
       "3              PhotoAmt        0.018334       0.087980  0.106314\n",
       "4          Sterilized_2        0.057692       0.022015  0.079708\n",
       "..                  ...             ...            ...       ...\n",
       "361          Breed2_110        0.000000       0.000015  0.000015\n",
       "362           Breed1_89        0.000000       0.000014  0.000014\n",
       "363          Breed1_124        0.000000       0.000013  0.000013\n",
       "364          Breed1_168        0.000000       0.000012  0.000012\n",
       "365          Breed2_131        0.000000       0.000011  0.000011\n",
       "\n",
       "[367 rows x 4 columns]"
      ]
     },
     "execution_count": 11,
     "metadata": {},
     "output_type": "execute_result"
    }
   ],
   "source": [
    "feat_imp = pd.DataFrame(columns = ['name', 'xgb_importance','rf_importance'])\n",
    "\n",
    "#xgb and rf models\n",
    "model_rf=RandomForestClassifier(n_estimators=num_trees, max_features=num_features, random_state=seed)\n",
    "model_rf.fit(X_df2,y_df2)\n",
    "xgb_model = xgb.XGBClassifier()\n",
    "xgb_model.fit(X_df2,y_df2)\n",
    "\n",
    "#calculating xgb and rf feature importance then adding them to total column\n",
    "for name, importance, importances in zip(df.columns, xgb_model.feature_importances_, model_rf.feature_importances_):\n",
    "    feat_imp = feat_imp.append({'name':name, 'xgb_importance':importance, 'rf_importance':importances}, ignore_index = True)\n",
    "    feat_imp['total'] = feat_imp['xgb_importance']+ feat_imp['rf_importance']\n",
    "    feat_imp = feat_imp.sort_values('total',ascending=False)\n",
    "    \n",
    "feat_imp"
   ]
  },
  {
   "cell_type": "code",
   "execution_count": 12,
   "metadata": {},
   "outputs": [
    {
     "name": "stdout",
     "output_type": "stream",
     "text": [
      "Accuracy: 46.02%\n"
     ]
    }
   ],
   "source": [
    "from xgboost import XGBClassifier\n",
    "from sklearn.model_selection import train_test_split\n",
    "from sklearn.metrics import accuracy_score\n",
    "\n",
    "\n",
    "X_train, X_test, y_train, y_test = train_test_split(X_df2, y_df2, test_size=0.2, random_state=1)\n",
    "\n",
    "model = XGBClassifier()\n",
    "model.fit(X_df2, y_df2)\n",
    "y_pred = model.predict(X_test)\n",
    "\n",
    "accuracy = accuracy_score(y_test, y_pred)\n",
    "print(\"Accuracy: %.2f%%\" % (accuracy * 100.0))"
   ]
  },
  {
   "cell_type": "code",
   "execution_count": 14,
   "metadata": {},
   "outputs": [
    {
     "name": "stdout",
     "output_type": "stream",
     "text": [
      "Confusion matrix:\n",
      " [[290 209  39 143]\n",
      " [193 313  71 237]\n",
      " [125 166 163 216]\n",
      " [ 76 107  37 614]]\n"
     ]
    },
    {
     "data": {
      "image/png": "[encoded data removed]",
      "text/plain": [
       "<Figure size 432x288 with 2 Axes>"
      ]
     },
     "metadata": {
      "needs_background": "light"
     },
     "output_type": "display_data"
    }
   ],
   "source": [
    "from sklearn.metrics import confusion_matrix\n",
    "from matplotlib import pyplot as plt\n",
    "\n",
    "conf_mat = confusion_matrix(y_true=y_test, y_pred=y_pred)\n",
    "print('Confusion matrix:\\n', conf_mat)\n",
    "\n",
    "labels = ['1', '2','3', '4']\n",
    "fig = plt.figure()\n",
    "ax = fig.add_subplot(111)\n",
    "cax = ax.matshow(conf_mat, cmap=plt.cm.Blues)\n",
    "fig.colorbar(cax)\n",
    "ax.set_xticklabels([''] + labels)\n",
    "ax.set_yticklabels([''] + labels)\n",
    "plt.xlabel('Predicted')\n",
    "plt.ylabel('Expected')\n",
    "plt.show()"
   ]
  }
 ],
 "metadata": {
  "kernelspec": {
   "display_name": "Python 3",
   "language": "python",
   "name": "python3"
  },
  "language_info": {
   "codemirror_mode": {
    "name": "ipython",
    "version": 3
   },
   "file_extension": ".py",
   "mimetype": "text/x-python",
   "name": "python",
   "nbconvert_exporter": "python",
   "pygments_lexer": "ipython3",
   "version": "3.7.3"
  }
 },
 "nbformat": 4,
 "nbformat_minor": 2
}
